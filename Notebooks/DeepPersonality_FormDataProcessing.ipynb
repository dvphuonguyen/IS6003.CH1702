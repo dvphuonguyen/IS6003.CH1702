{
  "cells": [
    {
      "cell_type": "markdown",
      "metadata": {
        "id": "r9P7E38DCp2G"
      },
      "source": [
        "# Installation"
      ]
    },
    {
      "cell_type": "code",
      "execution_count": 1,
      "metadata": {
        "colab": {
          "base_uri": "https://localhost:8080/"
        },
        "id": "ZOSphYvnKHzf",
        "outputId": "2f9e55fa-60e2-4f89-d6f7-4e02cff8e6d0"
      },
      "outputs": [
        {
          "name": "stdout",
          "output_type": "stream",
          "text": [
            "Cloning into 'DeepPersonality'...\n",
            "remote: Enumerating objects: 3271, done.\u001b[K\n",
            "remote: Counting objects: 100% (88/88), done.\u001b[K\n",
            "remote: Compressing objects: 100% (61/61), done.\u001b[K\n",
            "remote: Total 3271 (delta 45), reused 55 (delta 25), pack-reused 3183\u001b[K\n",
            "Receiving objects: 100% (3271/3271), 3.06 MiB | 25.04 MiB/s, done.\n",
            "Resolving deltas: 100% (2295/2295), done.\n"
          ]
        }
      ],
      "source": [
        "!git clone https://github.com/liaorongfan/DeepPersonality.git"
      ]
    },
    {
      "cell_type": "code",
      "execution_count": 2,
      "metadata": {
        "colab": {
          "base_uri": "https://localhost:8080/",
          "height": 36
        },
        "id": "aPbZvJ2yMS6W",
        "outputId": "6851ee12-2df8-4aa7-f165-ae8d39dd7033"
      },
      "outputs": [
        {
          "data": {
            "application/vnd.google.colaboratory.intrinsic+json": {
              "type": "string"
            },
            "text/plain": [
              "'/content/DeepPersonality'"
            ]
          },
          "execution_count": 2,
          "metadata": {},
          "output_type": "execute_result"
        }
      ],
      "source": [
        "import os\n",
        "os.chdir(\"/content/DeepPersonality\")\n",
        "os.getcwd()"
      ]
    },
    {
      "cell_type": "code",
      "execution_count": null,
      "metadata": {
        "id": "TFHI4rzKBKJ0"
      },
      "outputs": [],
      "source": [
        "!pip install -r requirements.txt"
      ]
    },
    {
      "cell_type": "markdown",
      "metadata": {
        "id": "WDj-unFPDDxQ"
      },
      "source": [
        "# Dataset pre-process"
      ]
    },
    {
      "cell_type": "code",
      "execution_count": 1,
      "metadata": {
        "colab": {
          "base_uri": "https://localhost:8080/"
        },
        "id": "cGMkHVPkLnbH",
        "outputId": "7188f483-fdd8-42c1-91da-920df65160a3"
      },
      "outputs": [
        {
          "name": "stderr",
          "output_type": "stream",
          "text": [
            "Downloading...\n",
            "From (uriginal): https://drive.google.com/uc?id=1S87nJFLz9ygzw2Ep_rJUXzzWFfdz15an\n",
            "From (redirected): https://drive.google.com/uc?id=1S87nJFLz9ygzw2Ep_rJUXzzWFfdz15an&confirm=t&uuid=ccd9d71d-240c-4bcf-82d9-ebd510a440b3\n",
            "To: c:\\Users\\phuon\\OneDrive\\Documents\\CaoHoc\\IS6003\\CodeGitHub\\IS6003.CH1702\\Notebooks\\ChaLearn2016_tiny.zip\n",
            "\n",
            "  0%|          | 0.00/303M [00:00<?, ?B/s]\n",
            "  0%|          | 524k/303M [00:00<01:51, 2.72MB/s]\n",
            "  1%|          | 2.62M/303M [00:00<00:29, 10.2MB/s]\n",
            "  2%|▏         | 4.72M/303M [00:00<00:26, 11.1MB/s]\n",
            "  3%|▎         | 7.86M/303M [00:00<00:18, 15.9MB/s]\n",
            "  4%|▎         | 11.0M/303M [00:00<00:15, 18.9MB/s]\n",
            "  5%|▍         | 13.6M/303M [00:00<00:14, 20.2MB/s]\n",
            "  6%|▌         | 16.8M/303M [00:00<00:12, 22.2MB/s]\n",
            "  6%|▋         | 19.4M/303M [00:01<00:12, 23.1MB/s]\n",
            "  7%|▋         | 22.0M/303M [00:01<00:12, 22.5MB/s]\n",
            "  8%|▊         | 24.6M/303M [00:01<00:12, 21.5MB/s]\n",
            "  9%|▉         | 27.3M/303M [00:01<00:14, 19.2MB/s]\n",
            " 10%|▉         | 29.4M/303M [00:01<00:22, 12.4MB/s]\n",
            " 11%|█         | 33.0M/303M [00:01<00:16, 16.7MB/s]\n",
            " 12%|█▏        | 35.7M/303M [00:02<00:16, 16.2MB/s]\n",
            " 12%|█▏        | 37.7M/303M [00:02<00:16, 16.3MB/s]\n",
            " 13%|█▎        | 39.8M/303M [00:02<00:16, 16.3MB/s]\n",
            " 14%|█▍        | 41.9M/303M [00:02<00:16, 15.8MB/s]\n",
            " 15%|█▍        | 44.0M/303M [00:02<00:15, 16.5MB/s]\n",
            " 16%|█▌        | 47.2M/303M [00:02<00:13, 19.5MB/s]\n",
            " 17%|█▋        | 50.3M/303M [00:02<00:11, 22.0MB/s]\n",
            " 17%|█▋        | 53.0M/303M [00:02<00:10, 22.9MB/s]\n",
            " 18%|█▊        | 55.6M/303M [00:03<00:12, 19.0MB/s]\n",
            " 20%|█▉        | 59.8M/303M [00:03<00:10, 23.2MB/s]\n",
            " 21%|██        | 63.4M/303M [00:03<00:09, 26.2MB/s]\n",
            " 22%|██▏       | 66.6M/303M [00:03<00:09, 24.0MB/s]\n",
            " 23%|██▎       | 69.2M/303M [00:03<00:10, 22.4MB/s]\n",
            " 24%|██▍       | 72.4M/303M [00:03<00:09, 23.2MB/s]\n",
            " 25%|██▍       | 75.0M/303M [00:03<00:09, 23.7MB/s]\n",
            " 26%|██▌       | 77.6M/303M [00:04<00:10, 22.2MB/s]\n",
            " 26%|██▋       | 80.2M/303M [00:04<00:10, 22.1MB/s]\n",
            " 27%|██▋       | 82.8M/303M [00:04<00:12, 18.2MB/s]\n",
            " 29%|██▊       | 87.0M/303M [00:04<00:09, 23.0MB/s]\n",
            " 30%|██▉       | 89.7M/303M [00:04<00:10, 20.8MB/s]\n",
            " 30%|███       | 92.3M/303M [00:04<00:10, 20.2MB/s]\n",
            " 31%|███▏      | 94.9M/303M [00:04<00:11, 18.4MB/s]\n",
            " 32%|███▏      | 97.0M/303M [00:05<00:13, 15.6MB/s]\n",
            " 33%|███▎      | 99.1M/303M [00:05<00:12, 16.2MB/s]\n",
            " 34%|███▎      | 102M/303M [00:05<00:12, 15.8MB/s] \n",
            " 34%|███▍      | 104M/303M [00:05<00:12, 16.1MB/s]\n",
            " 35%|███▍      | 106M/303M [00:05<00:13, 14.4MB/s]\n",
            " 36%|███▌      | 107M/303M [00:05<00:14, 13.3MB/s]\n",
            " 36%|███▌      | 109M/303M [00:06<00:15, 12.5MB/s]\n",
            " 37%|███▋      | 111M/303M [00:06<00:16, 11.8MB/s]\n",
            " 37%|███▋      | 112M/303M [00:06<00:16, 11.5MB/s]\n",
            " 38%|███▊      | 114M/303M [00:06<00:18, 10.0MB/s]\n",
            " 38%|███▊      | 115M/303M [00:06<00:18, 10.0MB/s]\n",
            " 38%|███▊      | 116M/303M [00:06<00:20, 8.88MB/s]\n",
            " 39%|███▉      | 117M/303M [00:07<00:22, 8.42MB/s]\n",
            " 39%|███▉      | 118M/303M [00:07<00:22, 8.32MB/s]\n",
            " 40%|███▉      | 121M/303M [00:07<00:16, 11.0MB/s]\n",
            " 41%|████      | 123M/303M [00:07<00:14, 12.7MB/s]\n",
            " 41%|████      | 125M/303M [00:07<00:12, 14.6MB/s]\n",
            " 42%|████▏     | 127M/303M [00:07<00:10, 17.1MB/s]\n",
            " 43%|████▎     | 129M/303M [00:07<00:10, 16.2MB/s]\n",
            " 43%|████▎     | 132M/303M [00:07<00:13, 12.3MB/s]\n",
            " 44%|████▍     | 133M/303M [00:08<00:15, 11.2MB/s]\n",
            " 45%|████▌     | 136M/303M [00:08<00:12, 13.8MB/s]\n",
            " 46%|████▌     | 138M/303M [00:08<00:10, 15.0MB/s]\n",
            " 46%|████▋     | 141M/303M [00:08<00:10, 15.4MB/s]\n",
            " 47%|████▋     | 143M/303M [00:08<00:11, 14.3MB/s]\n",
            " 48%|████▊     | 144M/303M [00:08<00:11, 14.3MB/s]\n",
            " 48%|████▊     | 146M/303M [00:08<00:11, 14.2MB/s]\n",
            " 49%|████▊     | 147M/303M [00:09<00:12, 12.8MB/s]\n",
            " 49%|████▉     | 149M/303M [00:09<00:13, 11.8MB/s]\n",
            " 50%|████▉     | 151M/303M [00:09<00:12, 12.1MB/s]\n",
            " 50%|█████     | 153M/303M [00:09<00:11, 12.8MB/s]\n",
            " 51%|█████     | 154M/303M [00:09<00:12, 11.8MB/s]\n",
            " 51%|█████▏    | 156M/303M [00:09<00:11, 12.5MB/s]\n",
            " 52%|█████▏    | 157M/303M [00:09<00:11, 12.5MB/s]\n",
            " 53%|█████▎    | 159M/303M [00:10<00:10, 14.0MB/s]\n",
            " 54%|█████▎    | 162M/303M [00:10<00:08, 16.4MB/s]\n",
            " 54%|█████▍    | 164M/303M [00:10<00:09, 14.6MB/s]\n",
            " 55%|█████▌    | 167M/303M [00:10<00:08, 16.7MB/s]\n",
            " 56%|█████▌    | 169M/303M [00:10<00:08, 16.3MB/s]\n",
            " 56%|█████▋    | 171M/303M [00:10<00:09, 14.6MB/s]\n",
            " 57%|█████▋    | 172M/303M [00:10<00:09, 14.2MB/s]\n",
            " 57%|█████▋    | 174M/303M [00:11<00:10, 12.8MB/s]\n",
            " 58%|█████▊    | 176M/303M [00:11<00:09, 12.9MB/s]\n",
            " 59%|█████▊    | 177M/303M [00:11<00:12, 10.3MB/s]\n",
            " 59%|█████▉    | 179M/303M [00:12<00:38, 3.25MB/s]\n",
            " 59%|█████▉    | 180M/303M [00:13<00:36, 3.37MB/s]\n",
            " 60%|█████▉    | 181M/303M [00:13<00:36, 3.37MB/s]\n",
            " 60%|██████    | 182M/303M [00:13<00:36, 3.29MB/s]\n",
            " 60%|██████    | 182M/303M [00:13<00:37, 3.25MB/s]\n",
            " 60%|██████    | 183M/303M [00:14<00:37, 3.21MB/s]\n",
            " 61%|██████    | 184M/303M [00:14<00:59, 2.00MB/s]\n",
            " 61%|██████    | 184M/303M [00:14<00:52, 2.24MB/s]\n",
            " 61%|██████    | 185M/303M [00:14<00:48, 2.44MB/s]\n",
            " 61%|██████    | 185M/303M [00:15<00:43, 2.73MB/s]\n",
            " 61%|██████▏   | 186M/303M [00:15<00:38, 3.08MB/s]\n",
            " 62%|██████▏   | 187M/303M [00:15<00:21, 5.31MB/s]\n",
            " 63%|██████▎   | 190M/303M [00:15<00:12, 9.40MB/s]\n",
            " 64%|██████▎   | 193M/303M [00:15<00:07, 14.0MB/s]\n",
            " 65%|██████▍   | 197M/303M [00:15<00:05, 18.2MB/s]\n",
            " 66%|██████▌   | 200M/303M [00:15<00:04, 20.9MB/s]\n",
            " 67%|██████▋   | 203M/303M [00:15<00:04, 23.0MB/s]\n",
            " 68%|██████▊   | 206M/303M [00:15<00:03, 24.5MB/s]\n",
            " 69%|██████▉   | 209M/303M [00:16<00:03, 24.6MB/s]\n",
            " 70%|██████▉   | 212M/303M [00:16<00:03, 23.4MB/s]\n",
            " 71%|███████   | 214M/303M [00:16<00:04, 19.4MB/s]\n",
            " 72%|███████▏  | 218M/303M [00:16<00:03, 22.0MB/s]\n",
            " 73%|███████▎  | 220M/303M [00:16<00:04, 19.5MB/s]\n",
            " 74%|███████▎  | 223M/303M [00:16<00:04, 19.1MB/s]\n",
            " 74%|███████▍  | 225M/303M [00:16<00:03, 19.5MB/s]\n",
            " 75%|███████▍  | 227M/303M [00:17<00:03, 19.0MB/s]\n",
            " 76%|███████▌  | 230M/303M [00:17<00:03, 19.6MB/s]\n",
            " 77%|███████▋  | 232M/303M [00:17<00:03, 19.4MB/s]\n",
            " 78%|███████▊  | 235M/303M [00:17<00:03, 21.2MB/s]\n",
            " 78%|███████▊  | 238M/303M [00:17<00:03, 20.3MB/s]\n",
            " 79%|███████▉  | 240M/303M [00:17<00:03, 19.6MB/s]\n",
            " 80%|███████▉  | 242M/303M [00:17<00:03, 19.8MB/s]\n",
            " 81%|████████  | 244M/303M [00:17<00:02, 20.1MB/s]\n",
            " 82%|████████▏ | 247M/303M [00:18<00:02, 21.2MB/s]\n",
            " 82%|████████▏ | 250M/303M [00:18<00:02, 18.9MB/s]\n",
            " 83%|████████▎ | 252M/303M [00:18<00:02, 18.2MB/s]\n",
            " 85%|████████▍ | 256M/303M [00:18<00:01, 23.7MB/s]\n",
            " 86%|████████▌ | 259M/303M [00:18<00:01, 21.9MB/s]\n",
            " 86%|████████▋ | 262M/303M [00:18<00:01, 20.6MB/s]\n",
            " 88%|████████▊ | 266M/303M [00:18<00:01, 23.0MB/s]\n",
            " 89%|████████▊ | 268M/303M [00:18<00:01, 23.6MB/s]\n",
            " 90%|████████▉ | 271M/303M [00:19<00:01, 21.6MB/s]\n",
            " 90%|█████████ | 274M/303M [00:19<00:01, 21.2MB/s]\n",
            " 91%|█████████▏| 276M/303M [00:19<00:01, 19.1MB/s]\n",
            " 92%|█████████▏| 279M/303M [00:19<00:01, 19.8MB/s]\n",
            " 93%|█████████▎| 281M/303M [00:19<00:01, 19.9MB/s]\n",
            " 94%|█████████▎| 283M/303M [00:19<00:01, 16.8MB/s]\n",
            " 94%|█████████▍| 285M/303M [00:19<00:01, 15.7MB/s]\n",
            " 95%|█████████▍| 287M/303M [00:20<00:01, 13.3MB/s]\n",
            " 96%|█████████▌| 290M/303M [00:20<00:00, 15.3MB/s]\n",
            " 97%|█████████▋| 293M/303M [00:20<00:00, 17.8MB/s]\n",
            " 98%|█████████▊| 296M/303M [00:20<00:00, 20.3MB/s]\n",
            " 99%|█████████▊| 299M/303M [00:20<00:00, 20.4MB/s]\n",
            "100%|█████████▉| 301M/303M [00:20<00:00, 20.8MB/s]\n",
            "100%|██████████| 303M/303M [00:20<00:00, 14.5MB/s]\n"
          ]
        }
      ],
      "source": [
        "!gdown 1S87nJFLz9ygzw2Ep_rJUXzzWFfdz15an --output ChaLearn2016_tiny.zip"
      ]
    },
    {
      "cell_type": "code",
      "execution_count": 2,
      "metadata": {
        "id": "uZUQrSK-L5AN"
      },
      "outputs": [
        {
          "name": "stderr",
          "output_type": "stream",
          "text": [
            "'unzip' is not recognized as an internal or external command,\n",
            "operable program or batch file.\n"
          ]
        }
      ],
      "source": [
        "!unzip ChaLearn2016_tiny.zip -d datasets/"
      ]
    },
    {
      "cell_type": "markdown",
      "metadata": {
        "id": "hw_BvU3PNoN_"
      },
      "source": [
        "## Visual data processing"
      ]
    },
    {
      "cell_type": "code",
      "execution_count": null,
      "metadata": {},
      "outputs": [],
      "source": []
    },
    {
      "cell_type": "code",
      "execution_count": 5,
      "metadata": {
        "id": "9Zkj0L01MtLC"
      },
      "outputs": [
        {
          "name": "stderr",
          "output_type": "stream",
          "text": [
            "python: can't open file './dpcv/data/utils/video_to_image.py': [Errno 2] No such file or directory\n"
          ]
        }
      ],
      "source": [
        "!python dpcv/data/utils/video_to_image.py \\\n",
        "    --video-dir datasets/ChaLearn2016_tiny/test \\\n",
        "    --output-dir datasets/ChaLearn2016_tiny/test_data"
      ]
    },
    {
      "cell_type": "code",
      "execution_count": null,
      "metadata": {
        "id": "xPhm4zDqMnpP"
      },
      "outputs": [],
      "source": [
        "!python dpcv/data/utils/video_to_image.py \\\n",
        "    --video-dir datasets/ChaLearn2016_tiny/valid \\\n",
        "    --output-dir datasets/ChaLearn2016_tiny/valid_data"
      ]
    },
    {
      "cell_type": "code",
      "execution_count": null,
      "metadata": {
        "id": "QK5BxHhbNK_W"
      },
      "outputs": [],
      "source": [
        "!python dpcv/data/utils/video_to_image.py \\\n",
        "    --video-dir datasets/ChaLearn2016_tiny/train \\\n",
        "    --output-dir datasets/ChaLearn2016_tiny/train_data"
      ]
    },
    {
      "cell_type": "markdown",
      "metadata": {
        "id": "v4XxtUDjNfGP"
      },
      "source": [
        "## Audio data processing"
      ]
    },
    {
      "cell_type": "markdown",
      "metadata": {
        "id": "v_10YuAWB-1H"
      },
      "source": [
        "### Extract raw audio from video"
      ]
    },
    {
      "cell_type": "code",
      "execution_count": null,
      "metadata": {
        "id": "dzr-cPbg-B8W"
      },
      "outputs": [],
      "source": [
        "!python dpcv/data/utils/video_to_wave.py \\\n",
        "    --video-dir datasets/ChaLearn2016_tiny/train \\\n",
        "    --output-dir datasets/ChaLearn2016_tiny/voice_data/voice_raw/train_data"
      ]
    },
    {
      "cell_type": "code",
      "execution_count": null,
      "metadata": {
        "id": "JnTaKF_49Xov"
      },
      "outputs": [],
      "source": [
        "!python dpcv/data/utils/video_to_wave.py \\\n",
        "    --video-dir datasets/ChaLearn2016_tiny/test \\\n",
        "    --output-dir datasets/ChaLearn2016_tiny/voice_data/voice_raw/test_data"
      ]
    },
    {
      "cell_type": "code",
      "execution_count": null,
      "metadata": {
        "id": "H4618wbO-DfT"
      },
      "outputs": [],
      "source": [
        "!python dpcv/data/utils/video_to_wave.py \\\n",
        "    --video-dir datasets/ChaLearn2016_tiny/valid \\\n",
        "    --output-dir datasets/ChaLearn2016_tiny/voice_data/voice_raw/valid_data"
      ]
    },
    {
      "cell_type": "markdown",
      "metadata": {
        "id": "o42krPoI-T_B"
      },
      "source": [
        "### Process raw audio data"
      ]
    },
    {
      "cell_type": "code",
      "execution_count": 13,
      "metadata": {
        "colab": {
          "base_uri": "https://localhost:8080/"
        },
        "id": "m-59dSduNxNo",
        "outputId": "bf585a20-54f1-4a59-cd72-443d5b3318fb"
      },
      "outputs": [
        {
          "name": "stdout",
          "output_type": "stream",
          "text": [
            "100% 20/20 [00:10<00:00,  1.86it/s]\n"
          ]
        }
      ],
      "source": [
        "!python dpcv/data/utils/raw_audio_process.py \\\n",
        "    --mode librosa \\\n",
        "    --audio-dir datasets/ChaLearn2016_tiny/voice_data/voice_raw/test_data \\\n",
        "    --output-dir datasets/ChaLearn2016_tiny/voice_data/voice_librosa/test_data "
      ]
    },
    {
      "cell_type": "code",
      "execution_count": 14,
      "metadata": {
        "colab": {
          "base_uri": "https://localhost:8080/"
        },
        "id": "ZSFLE5Sx_nME",
        "outputId": "56eaee6c-bdb6-4566-b7da-11dca5d90b3e"
      },
      "outputs": [
        {
          "name": "stdout",
          "output_type": "stream",
          "text": [
            "100% 20/20 [00:10<00:00,  1.86it/s]\n"
          ]
        }
      ],
      "source": [
        "!python dpcv/data/utils/raw_audio_process.py \\\n",
        "     --mode librosa \\\n",
        "     --audio-dir datasets/ChaLearn2016_tiny/voice_data/voice_raw/valid_data \\\n",
        "     --output-dir datasets/ChaLearn2016_tiny/voice_data/voice_librosa/valid_data "
      ]
    },
    {
      "cell_type": "code",
      "execution_count": 15,
      "metadata": {
        "colab": {
          "base_uri": "https://localhost:8080/"
        },
        "id": "6ZkKrskU8JBc",
        "outputId": "1c77fcf0-f8b7-4317-cef8-46133012cf0e"
      },
      "outputs": [
        {
          "name": "stdout",
          "output_type": "stream",
          "text": [
            "100% 60/60 [00:29<00:00,  2.07it/s]\n"
          ]
        }
      ],
      "source": [
        "!python dpcv/data/utils/raw_audio_process.py \\\n",
        "    --mode librosa \\\n",
        "    --audio-dir datasets/ChaLearn2016_tiny/voice_data/voice_raw/train_data \\\n",
        "    --output-dir datasets/ChaLearn2016_tiny/voice_data/voice_librosa/train_data "
      ]
    },
    {
      "cell_type": "markdown",
      "metadata": {
        "id": "Jx6OvHmUCOFD"
      },
      "source": [
        "# Run demo expriment"
      ]
    },
    {
      "cell_type": "code",
      "execution_count": 17,
      "metadata": {
        "colab": {
          "base_uri": "https://localhost:8080/"
        },
        "id": "kmTcOCDFA2w8",
        "outputId": "2bc4dff8-04ed-4c3d-8090-0fdb6e112ae3"
      },
      "outputs": [
        {
          "name": "stdout",
          "output_type": "stream",
          "text": [
            "{\n",
            "    \"DATA\":{\n",
            "        \"ROOT\":\"datasets\",\n",
            "        \"SESSION\":\"talk\",\n",
            "        \"TEST_AUD_DATA\":\"ChaLearn2016_tiny/voice_data/voice_librosa/test_data\",\n",
            "        \"TEST_IMG_DATA\":\"ChaLearn2016_tiny/test_data\",\n",
            "        \"TEST_IMG_FACE_DATA\":\"image_data/test_data_face\",\n",
            "        \"TEST_LABEL_DATA\":\"ChaLearn2016_tiny/annotation/annotation_test.pkl\",\n",
            "        \"TRAIN_AUD_DATA\":\"ChaLearn2016_tiny/voice_data/voice_librosa/train_data\",\n",
            "        \"TRAIN_IMG_DATA\":\"ChaLearn2016_tiny/train_data\",\n",
            "        \"TRAIN_IMG_FACE_DATA\":\"image_data/train_data_face\",\n",
            "        \"TRAIN_LABEL_DATA\":\"ChaLearn2016_tiny/annotation/annotation_training.pkl\",\n",
            "        \"TYPE\":\"frame\",\n",
            "        \"VALID_AUD_DATA\":\"ChaLearn2016_tiny/voice_data/voice_librosa/valid_data\",\n",
            "        \"VALID_IMG_DATA\":\"ChaLearn2016_tiny/valid_data\",\n",
            "        \"VALID_IMG_FACE_DATA\":\"image_data/valid_data_face\",\n",
            "        \"VALID_LABEL_DATA\":\"ChaLearn2016_tiny/annotation/annotation_validation.pkl\",\n",
            "        \"VA_DATA\":\"va_data/cropped_aligned\",\n",
            "        \"VA_ROOT\":\"datasets\",\n",
            "        \"VA_TRAIN_LABEL\":\"va_data/va_label/VA_Set/Train_Set\",\n",
            "        \"VA_VALID_LABEL\":\"va_data/va_label/VA_Set/Validation_Set\"\n",
            "    },\n",
            "    \"DATA_LOADER\":{\n",
            "        \"DATASET\":\"\",\n",
            "        \"DROP_LAST\":true,\n",
            "        \"NAME\":\"bimodal_resnet_data_loader\",\n",
            "        \"NUM_WORKERS\":0,\n",
            "        \"SECOND_STAGE\":{\n",
            "            \"METHOD\":\"\",\n",
            "            \"TYPE\":\"\"\n",
            "        },\n",
            "        \"SHUFFLE\":true,\n",
            "        \"TRAIN_BATCH_SIZE\":8,\n",
            "        \"TRANSFORM\":\"standard_frame_transform\",\n",
            "        \"VALID_BATCH_SIZE\":4\n",
            "    },\n",
            "    \"LOSS\":{\n",
            "        \"NAME\":\"mean_square_error\"\n",
            "    },\n",
            "    \"MODEL\":{\n",
            "        \"NAME\":\"audiovisual_resnet\",\n",
            "        \"NUM_CLASS\":5,\n",
            "        \"PRETRAIN\":false,\n",
            "        \"RETURN_FEATURE\":false,\n",
            "        \"SPECTRUM_CHANNEL\":50\n",
            "    },\n",
            "    \"SOLVER\":{\n",
            "        \"BETA_1\":0.5,\n",
            "        \"BETA_2\":0.999,\n",
            "        \"FACTOR\":0.1,\n",
            "        \"LR_INIT\":0.001,\n",
            "        \"MILESTONE\":[\n",
            "            100,\n",
            "            200\n",
            "        ],\n",
            "        \"MOMENTUM\":0.9,\n",
            "        \"NAME\":\"sgd\",\n",
            "        \"RESET_LR\":false,\n",
            "        \"SCHEDULER\":\"multi_step_scale\",\n",
            "        \"WEIGHT_DECAY\":0.0005\n",
            "    },\n",
            "    \"TEST\":{\n",
            "        \"COMPUTE_CCC\":true,\n",
            "        \"COMPUTE_PCC\":true,\n",
            "        \"FULL_TEST\":false,\n",
            "        \"SAVE_DATASET_OUTPUT\":\"\",\n",
            "        \"TEST_ONLY\":false,\n",
            "        \"WEIGHT\":\"\"\n",
            "    },\n",
            "    \"TRAIN\":{\n",
            "        \"LOG_INTERVAL\":10,\n",
            "        \"MAX_EPOCH\":50,\n",
            "        \"OUTPUT_DIR\":\"results/demo/unified_frame_images/03_bimodal_resnet\",\n",
            "        \"PRE_TRAINED_MODEL\":null,\n",
            "        \"RESUME\":\"\",\n",
            "        \"START_EPOCH\":0,\n",
            "        \"TRAINER\":\"BiModalTrainer\",\n",
            "        \"VALID_INTERVAL\":1\n",
            "    }\n",
            "}\n",
            "Training: learning rate:0.001\n",
            "INFO:log.log:Training: learning rate:0.001\n",
            "Valid: Epoch[001/050] Train Mean_Acc: 85.38% Valid Mean_Acc:88.97% OCEAN_ACC:[0.884295   0.8832507  0.8882176  0.90470487 0.88794005]\n",
            "\n",
            "INFO:log.log:Valid: Epoch[001/050] Train Mean_Acc: 85.38% Valid Mean_Acc:88.97% OCEAN_ACC:[0.884295   0.8832507  0.8882176  0.90470487 0.88794005]\n",
            "\n",
            "Training: learning rate:0.001\n",
            "INFO:log.log:Training: learning rate:0.001\n",
            "Valid: Epoch[002/050] Train Mean_Acc: 86.06% Valid Mean_Acc:89.21% OCEAN_ACC:[0.89416105 0.88507974 0.8870834  0.90477455 0.8896311 ]\n",
            "\n",
            "INFO:log.log:Valid: Epoch[002/050] Train Mean_Acc: 86.06% Valid Mean_Acc:89.21% OCEAN_ACC:[0.89416105 0.88507974 0.8870834  0.90477455 0.8896311 ]\n",
            "\n",
            "Training: learning rate:0.001\n",
            "INFO:log.log:Training: learning rate:0.001\n",
            "Valid: Epoch[003/050] Train Mean_Acc: 87.14% Valid Mean_Acc:89.22% OCEAN_ACC:[0.89354384 0.8869791  0.8847224  0.90782773 0.8881258 ]\n",
            "\n",
            "INFO:log.log:Valid: Epoch[003/050] Train Mean_Acc: 87.14% Valid Mean_Acc:89.22% OCEAN_ACC:[0.89354384 0.8869791  0.8847224  0.90782773 0.8881258 ]\n",
            "\n",
            "Training: learning rate:0.001\n",
            "INFO:log.log:Training: learning rate:0.001\n",
            "Valid: Epoch[004/050] Train Mean_Acc: 87.27% Valid Mean_Acc:88.45% OCEAN_ACC:[0.88898355 0.88847274 0.8816082  0.8866886  0.8768557 ]\n",
            "\n",
            "INFO:log.log:Valid: Epoch[004/050] Train Mean_Acc: 87.27% Valid Mean_Acc:88.45% OCEAN_ACC:[0.88898355 0.88847274 0.8816082  0.8866886  0.8768557 ]\n",
            "\n",
            "Training: learning rate:0.001\n",
            "INFO:log.log:Training: learning rate:0.001\n",
            "Valid: Epoch[005/050] Train Mean_Acc: 87.25% Valid Mean_Acc:89.14% OCEAN_ACC:[0.89226806 0.88979083 0.8844274  0.90478945 0.88554585]\n",
            "\n",
            "INFO:log.log:Valid: Epoch[005/050] Train Mean_Acc: 87.25% Valid Mean_Acc:89.14% OCEAN_ACC:[0.89226806 0.88979083 0.8844274  0.90478945 0.88554585]\n",
            "\n",
            "Training: learning rate:0.001\n",
            "INFO:log.log:Training: learning rate:0.001\n",
            "Valid: Epoch[006/050] Train Mean_Acc: 87.23% Valid Mean_Acc:88.94% OCEAN_ACC:[0.89336365 0.8886978  0.8815778  0.8977928  0.8856679 ]\n",
            "\n",
            "INFO:log.log:Valid: Epoch[006/050] Train Mean_Acc: 87.23% Valid Mean_Acc:88.94% OCEAN_ACC:[0.89336365 0.8886978  0.8815778  0.8977928  0.8856679 ]\n",
            "\n",
            "Training: learning rate:0.001\n",
            "INFO:log.log:Training: learning rate:0.001\n",
            "Valid: Epoch[007/050] Train Mean_Acc: 87.44% Valid Mean_Acc:88.99% OCEAN_ACC:[0.8931926  0.8890567  0.88274    0.89812165 0.8863245 ]\n",
            "\n",
            "INFO:log.log:Valid: Epoch[007/050] Train Mean_Acc: 87.44% Valid Mean_Acc:88.99% OCEAN_ACC:[0.8931926  0.8890567  0.88274    0.89812165 0.8863245 ]\n",
            "\n",
            "Training: learning rate:0.001\n",
            "INFO:log.log:Training: learning rate:0.001\n",
            "Valid: Epoch[008/050] Train Mean_Acc: 87.95% Valid Mean_Acc:89.06% OCEAN_ACC:[0.89263296 0.8883085  0.8839081  0.90186036 0.88609296]\n",
            "\n",
            "INFO:log.log:Valid: Epoch[008/050] Train Mean_Acc: 87.95% Valid Mean_Acc:89.06% OCEAN_ACC:[0.89263296 0.8883085  0.8839081  0.90186036 0.88609296]\n",
            "\n",
            "Training: learning rate:0.001\n",
            "INFO:log.log:Training: learning rate:0.001\n",
            "Valid: Epoch[009/050] Train Mean_Acc: 87.53% Valid Mean_Acc:89.12% OCEAN_ACC:[0.8924608  0.8889779  0.88742673 0.9020131  0.8849106 ]\n",
            "\n",
            "INFO:log.log:Valid: Epoch[009/050] Train Mean_Acc: 87.53% Valid Mean_Acc:89.12% OCEAN_ACC:[0.8924608  0.8889779  0.88742673 0.9020131  0.8849106 ]\n",
            "\n",
            "Training: learning rate:0.001\n",
            "INFO:log.log:Training: learning rate:0.001\n",
            "Valid: Epoch[010/050] Train Mean_Acc: 88.07% Valid Mean_Acc:88.97% OCEAN_ACC:[0.8928008  0.88802135 0.88444376 0.9009476  0.88252527]\n",
            "\n",
            "INFO:log.log:Valid: Epoch[010/050] Train Mean_Acc: 88.07% Valid Mean_Acc:88.97% OCEAN_ACC:[0.8928008  0.88802135 0.88444376 0.9009476  0.88252527]\n",
            "\n",
            "Training: learning rate:0.001\n",
            "INFO:log.log:Training: learning rate:0.001\n",
            "Valid: Epoch[011/050] Train Mean_Acc: 87.46% Valid Mean_Acc:88.82% OCEAN_ACC:[0.89275897 0.8849943  0.88273394 0.8990036  0.8815203 ]\n",
            "\n",
            "INFO:log.log:Valid: Epoch[011/050] Train Mean_Acc: 87.46% Valid Mean_Acc:88.82% OCEAN_ACC:[0.89275897 0.8849943  0.88273394 0.8990036  0.8815203 ]\n",
            "\n",
            "Training: learning rate:0.001\n",
            "INFO:log.log:Training: learning rate:0.001\n",
            "Valid: Epoch[012/050] Train Mean_Acc: 87.73% Valid Mean_Acc:88.69% OCEAN_ACC:[0.8898155  0.8837544  0.8824229  0.90348357 0.87482965]\n",
            "\n",
            "INFO:log.log:Valid: Epoch[012/050] Train Mean_Acc: 87.73% Valid Mean_Acc:88.69% OCEAN_ACC:[0.8898155  0.8837544  0.8824229  0.90348357 0.87482965]\n",
            "\n",
            "Training: learning rate:0.001\n",
            "INFO:log.log:Training: learning rate:0.001\n",
            "Valid: Epoch[013/050] Train Mean_Acc: 87.72% Valid Mean_Acc:87.88% OCEAN_ACC:[0.8819807  0.88240814 0.8794929  0.8827591  0.86758155]\n",
            "\n",
            "INFO:log.log:Valid: Epoch[013/050] Train Mean_Acc: 87.72% Valid Mean_Acc:87.88% OCEAN_ACC:[0.8819807  0.88240814 0.8794929  0.8827591  0.86758155]\n",
            "\n",
            "Training: learning rate:0.001\n",
            "INFO:log.log:Training: learning rate:0.001\n",
            "Valid: Epoch[014/050] Train Mean_Acc: 87.99% Valid Mean_Acc:88.41% OCEAN_ACC:[0.8897289 0.8804944 0.8810593 0.8968353 0.8724187]\n",
            "\n",
            "INFO:log.log:Valid: Epoch[014/050] Train Mean_Acc: 87.99% Valid Mean_Acc:88.41% OCEAN_ACC:[0.8897289 0.8804944 0.8810593 0.8968353 0.8724187]\n",
            "\n",
            "Training: learning rate:0.001\n",
            "INFO:log.log:Training: learning rate:0.001\n",
            "Valid: Epoch[015/050] Train Mean_Acc: 88.04% Valid Mean_Acc:87.43% OCEAN_ACC:[0.8772217  0.877406   0.874677   0.87739944 0.86486214]\n",
            "\n",
            "INFO:log.log:Valid: Epoch[015/050] Train Mean_Acc: 88.04% Valid Mean_Acc:87.43% OCEAN_ACC:[0.8772217  0.877406   0.874677   0.87739944 0.86486214]\n",
            "\n",
            "Training: learning rate:0.001\n",
            "INFO:log.log:Training: learning rate:0.001\n",
            "Valid: Epoch[016/050] Train Mean_Acc: 87.16% Valid Mean_Acc:88.17% OCEAN_ACC:[0.8882557 0.8794662 0.8770424 0.8927027 0.8709815]\n",
            "\n",
            "INFO:log.log:Valid: Epoch[016/050] Train Mean_Acc: 87.16% Valid Mean_Acc:88.17% OCEAN_ACC:[0.8882557 0.8794662 0.8770424 0.8927027 0.8709815]\n",
            "\n",
            "Training: learning rate:0.001\n",
            "INFO:log.log:Training: learning rate:0.001\n",
            "Valid: Epoch[017/050] Train Mean_Acc: 87.68% Valid Mean_Acc:88.23% OCEAN_ACC:[0.89043665 0.87949765 0.87836343 0.89205295 0.8710925 ]\n",
            "\n",
            "INFO:log.log:Valid: Epoch[017/050] Train Mean_Acc: 87.68% Valid Mean_Acc:88.23% OCEAN_ACC:[0.89043665 0.87949765 0.87836343 0.89205295 0.8710925 ]\n",
            "\n",
            "Training: learning rate:0.001\n",
            "INFO:log.log:Training: learning rate:0.001\n",
            "Valid: Epoch[018/050] Train Mean_Acc: 87.40% Valid Mean_Acc:88.10% OCEAN_ACC:[0.8874918  0.87833995 0.87686855 0.89125574 0.8712169 ]\n",
            "\n",
            "INFO:log.log:Valid: Epoch[018/050] Train Mean_Acc: 87.40% Valid Mean_Acc:88.10% OCEAN_ACC:[0.8874918  0.87833995 0.87686855 0.89125574 0.8712169 ]\n",
            "\n",
            "Training: learning rate:0.001\n",
            "INFO:log.log:Training: learning rate:0.001\n",
            "Valid: Epoch[019/050] Train Mean_Acc: 87.77% Valid Mean_Acc:88.26% OCEAN_ACC:[0.8872253  0.87987936 0.8799051  0.89381695 0.87232363]\n",
            "\n",
            "INFO:log.log:Valid: Epoch[019/050] Train Mean_Acc: 87.77% Valid Mean_Acc:88.26% OCEAN_ACC:[0.8872253  0.87987936 0.8799051  0.89381695 0.87232363]\n",
            "\n",
            "Training: learning rate:0.001\n",
            "INFO:log.log:Training: learning rate:0.001\n",
            "Valid: Epoch[020/050] Train Mean_Acc: 88.26% Valid Mean_Acc:88.11% OCEAN_ACC:[0.88787496 0.8790065  0.8757122  0.88994294 0.8727514 ]\n",
            "\n",
            "INFO:log.log:Valid: Epoch[020/050] Train Mean_Acc: 88.26% Valid Mean_Acc:88.11% OCEAN_ACC:[0.88787496 0.8790065  0.8757122  0.88994294 0.8727514 ]\n",
            "\n",
            "Training: learning rate:0.001\n",
            "INFO:log.log:Training: learning rate:0.001\n",
            "Valid: Epoch[021/050] Train Mean_Acc: 87.20% Valid Mean_Acc:88.17% OCEAN_ACC:[0.88778555 0.87768716 0.87950164 0.89167535 0.87163246]\n",
            "\n",
            "INFO:log.log:Valid: Epoch[021/050] Train Mean_Acc: 87.20% Valid Mean_Acc:88.17% OCEAN_ACC:[0.88778555 0.87768716 0.87950164 0.89167535 0.87163246]\n",
            "\n",
            "Training: learning rate:0.001\n",
            "INFO:log.log:Training: learning rate:0.001\n",
            "Valid: Epoch[022/050] Train Mean_Acc: 87.39% Valid Mean_Acc:87.51% OCEAN_ACC:[0.88133574 0.8792013  0.8723737  0.87508094 0.8677379 ]\n",
            "\n",
            "INFO:log.log:Valid: Epoch[022/050] Train Mean_Acc: 87.39% Valid Mean_Acc:87.51% OCEAN_ACC:[0.88133574 0.8792013  0.8723737  0.87508094 0.8677379 ]\n",
            "\n",
            "Training: learning rate:0.001\n",
            "INFO:log.log:Training: learning rate:0.001\n",
            "Valid: Epoch[023/050] Train Mean_Acc: 87.54% Valid Mean_Acc:88.05% OCEAN_ACC:[0.8868836  0.8783411  0.8775307  0.88770664 0.8720802 ]\n",
            "\n",
            "INFO:log.log:Valid: Epoch[023/050] Train Mean_Acc: 87.54% Valid Mean_Acc:88.05% OCEAN_ACC:[0.8868836  0.8783411  0.8775307  0.88770664 0.8720802 ]\n",
            "\n",
            "Training: learning rate:0.001\n",
            "INFO:log.log:Training: learning rate:0.001\n",
            "Valid: Epoch[024/050] Train Mean_Acc: 87.68% Valid Mean_Acc:88.20% OCEAN_ACC:[0.88893175 0.8789724  0.8798836  0.8895267  0.8727662 ]\n",
            "\n",
            "INFO:log.log:Valid: Epoch[024/050] Train Mean_Acc: 87.68% Valid Mean_Acc:88.20% OCEAN_ACC:[0.88893175 0.8789724  0.8798836  0.8895267  0.8727662 ]\n",
            "\n",
            "Training: learning rate:0.001\n",
            "INFO:log.log:Training: learning rate:0.001\n",
            "Valid: Epoch[025/050] Train Mean_Acc: 87.64% Valid Mean_Acc:88.14% OCEAN_ACC:[0.8898225  0.8791     0.87684727 0.88935643 0.8717329 ]\n",
            "\n",
            "INFO:log.log:Valid: Epoch[025/050] Train Mean_Acc: 87.64% Valid Mean_Acc:88.14% OCEAN_ACC:[0.8898225  0.8791     0.87684727 0.88935643 0.8717329 ]\n",
            "\n",
            "Training: learning rate:0.001\n",
            "INFO:log.log:Training: learning rate:0.001\n",
            "Valid: Epoch[026/050] Train Mean_Acc: 87.85% Valid Mean_Acc:88.25% OCEAN_ACC:[0.8907564  0.8817191  0.87838614 0.8877605  0.87384605]\n",
            "\n",
            "INFO:log.log:Valid: Epoch[026/050] Train Mean_Acc: 87.85% Valid Mean_Acc:88.25% OCEAN_ACC:[0.8907564  0.8817191  0.87838614 0.8877605  0.87384605]\n",
            "\n",
            "Training: learning rate:0.001\n",
            "INFO:log.log:Training: learning rate:0.001\n",
            "Valid: Epoch[027/050] Train Mean_Acc: 88.10% Valid Mean_Acc:88.15% OCEAN_ACC:[0.89279306 0.87906647 0.87658185 0.88696516 0.8722588 ]\n",
            "\n",
            "INFO:log.log:Valid: Epoch[027/050] Train Mean_Acc: 88.10% Valid Mean_Acc:88.15% OCEAN_ACC:[0.89279306 0.87906647 0.87658185 0.88696516 0.8722588 ]\n",
            "\n",
            "Training: learning rate:0.001\n",
            "INFO:log.log:Training: learning rate:0.001\n",
            "Valid: Epoch[028/050] Train Mean_Acc: 88.21% Valid Mean_Acc:87.43% OCEAN_ACC:[0.8745915  0.87991124 0.870849   0.87475693 0.8713768 ]\n",
            "\n",
            "INFO:log.log:Valid: Epoch[028/050] Train Mean_Acc: 88.21% Valid Mean_Acc:87.43% OCEAN_ACC:[0.8745915  0.87991124 0.870849   0.87475693 0.8713768 ]\n",
            "\n",
            "Training: learning rate:0.001\n",
            "INFO:log.log:Training: learning rate:0.001\n",
            "Valid: Epoch[029/050] Train Mean_Acc: 87.71% Valid Mean_Acc:87.56% OCEAN_ACC:[0.8771242  0.882558   0.87253255 0.87299633 0.87289286]\n",
            "\n",
            "INFO:log.log:Valid: Epoch[029/050] Train Mean_Acc: 87.71% Valid Mean_Acc:87.56% OCEAN_ACC:[0.8771242  0.882558   0.87253255 0.87299633 0.87289286]\n",
            "\n",
            "Training: learning rate:0.001\n",
            "INFO:log.log:Training: learning rate:0.001\n",
            "Valid: Epoch[030/050] Train Mean_Acc: 88.10% Valid Mean_Acc:88.23% OCEAN_ACC:[0.8884433  0.879021   0.8807324  0.88911027 0.87439984]\n",
            "\n",
            "INFO:log.log:Valid: Epoch[030/050] Train Mean_Acc: 88.10% Valid Mean_Acc:88.23% OCEAN_ACC:[0.8884433  0.879021   0.8807324  0.88911027 0.87439984]\n",
            "\n",
            "Training: learning rate:0.001\n",
            "INFO:log.log:Training: learning rate:0.001\n",
            "Valid: Epoch[031/050] Train Mean_Acc: 87.29% Valid Mean_Acc:88.30% OCEAN_ACC:[0.8942338  0.88223064 0.87576836 0.88622046 0.8764738 ]\n",
            "\n",
            "INFO:log.log:Valid: Epoch[031/050] Train Mean_Acc: 87.29% Valid Mean_Acc:88.30% OCEAN_ACC:[0.8942338  0.88223064 0.87576836 0.88622046 0.8764738 ]\n",
            "\n",
            "Training: learning rate:0.001\n",
            "INFO:log.log:Training: learning rate:0.001\n",
            "Valid: Epoch[032/050] Train Mean_Acc: 87.41% Valid Mean_Acc:88.33% OCEAN_ACC:[0.89335775 0.88032836 0.8788001  0.88743114 0.8766037 ]\n",
            "\n",
            "INFO:log.log:Valid: Epoch[032/050] Train Mean_Acc: 87.41% Valid Mean_Acc:88.33% OCEAN_ACC:[0.89335775 0.88032836 0.8788001  0.88743114 0.8766037 ]\n",
            "\n",
            "Training: learning rate:0.001\n",
            "INFO:log.log:Training: learning rate:0.001\n",
            "Valid: Epoch[033/050] Train Mean_Acc: 88.18% Valid Mean_Acc:88.38% OCEAN_ACC:[0.8927415  0.87660867 0.88215744 0.89133865 0.8761303 ]\n",
            "\n",
            "INFO:log.log:Valid: Epoch[033/050] Train Mean_Acc: 88.18% Valid Mean_Acc:88.38% OCEAN_ACC:[0.8927415  0.87660867 0.88215744 0.89133865 0.8761303 ]\n",
            "\n",
            "Training: learning rate:0.001\n",
            "INFO:log.log:Training: learning rate:0.001\n",
            "Valid: Epoch[034/050] Train Mean_Acc: 87.41% Valid Mean_Acc:87.43% OCEAN_ACC:[0.8789051  0.88021725 0.86742735 0.87213534 0.8729596 ]\n",
            "\n",
            "INFO:log.log:Valid: Epoch[034/050] Train Mean_Acc: 87.41% Valid Mean_Acc:87.43% OCEAN_ACC:[0.8789051  0.88021725 0.86742735 0.87213534 0.8729596 ]\n",
            "\n",
            "Training: learning rate:0.001\n",
            "INFO:log.log:Training: learning rate:0.001\n",
            "Valid: Epoch[035/050] Train Mean_Acc: 87.82% Valid Mean_Acc:88.23% OCEAN_ACC:[0.8949876  0.8761569  0.8782199  0.88915765 0.87310183]\n",
            "\n",
            "INFO:log.log:Valid: Epoch[035/050] Train Mean_Acc: 87.82% Valid Mean_Acc:88.23% OCEAN_ACC:[0.8949876  0.8761569  0.8782199  0.88915765 0.87310183]\n",
            "\n",
            "Training: learning rate:0.001\n",
            "INFO:log.log:Training: learning rate:0.001\n",
            "Valid: Epoch[036/050] Train Mean_Acc: 87.82% Valid Mean_Acc:87.53% OCEAN_ACC:[0.87843955 0.88286364 0.8675437  0.87481517 0.8729221 ]\n",
            "\n",
            "INFO:log.log:Valid: Epoch[036/050] Train Mean_Acc: 87.82% Valid Mean_Acc:87.53% OCEAN_ACC:[0.87843955 0.88286364 0.8675437  0.87481517 0.8729221 ]\n",
            "\n",
            "Training: learning rate:0.001\n",
            "INFO:log.log:Training: learning rate:0.001\n",
            "Valid: Epoch[037/050] Train Mean_Acc: 88.18% Valid Mean_Acc:88.17% OCEAN_ACC:[0.8891516  0.8761245  0.8812973  0.88871115 0.8730194 ]\n",
            "\n",
            "INFO:log.log:Valid: Epoch[037/050] Train Mean_Acc: 88.18% Valid Mean_Acc:88.17% OCEAN_ACC:[0.8891516  0.8761245  0.8812973  0.88871115 0.8730194 ]\n",
            "\n",
            "Training: learning rate:0.001\n",
            "INFO:log.log:Training: learning rate:0.001\n",
            "Valid: Epoch[038/050] Train Mean_Acc: 87.51% Valid Mean_Acc:88.00% OCEAN_ACC:[0.8912714  0.87616885 0.8767036  0.88304865 0.8725584 ]\n",
            "\n",
            "INFO:log.log:Valid: Epoch[038/050] Train Mean_Acc: 87.51% Valid Mean_Acc:88.00% OCEAN_ACC:[0.8912714  0.87616885 0.8767036  0.88304865 0.8725584 ]\n",
            "\n",
            "Training: learning rate:0.001\n",
            "INFO:log.log:Training: learning rate:0.001\n",
            "Valid: Epoch[039/050] Train Mean_Acc: 87.51% Valid Mean_Acc:88.20% OCEAN_ACC:[0.8941518  0.87933075 0.877714   0.8850012  0.87355405]\n",
            "\n",
            "INFO:log.log:Valid: Epoch[039/050] Train Mean_Acc: 87.51% Valid Mean_Acc:88.20% OCEAN_ACC:[0.8941518  0.87933075 0.877714   0.8850012  0.87355405]\n",
            "\n",
            "Training: learning rate:0.001\n",
            "INFO:log.log:Training: learning rate:0.001\n",
            "Valid: Epoch[040/050] Train Mean_Acc: 87.91% Valid Mean_Acc:88.11% OCEAN_ACC:[0.8904951  0.8772772  0.87973386 0.8842767  0.8738736 ]\n",
            "\n",
            "INFO:log.log:Valid: Epoch[040/050] Train Mean_Acc: 87.91% Valid Mean_Acc:88.11% OCEAN_ACC:[0.8904951  0.8772772  0.87973386 0.8842767  0.8738736 ]\n",
            "\n",
            "Training: learning rate:0.001\n",
            "INFO:log.log:Training: learning rate:0.001\n",
            "Valid: Epoch[041/050] Train Mean_Acc: 87.77% Valid Mean_Acc:88.03% OCEAN_ACC:[0.8921444  0.8780627  0.8758297  0.8823001  0.87320805]\n",
            "\n",
            "INFO:log.log:Valid: Epoch[041/050] Train Mean_Acc: 87.77% Valid Mean_Acc:88.03% OCEAN_ACC:[0.8921444  0.8780627  0.8758297  0.8823001  0.87320805]\n",
            "\n",
            "Training: learning rate:0.001\n",
            "INFO:log.log:Training: learning rate:0.001\n",
            "Valid: Epoch[042/050] Train Mean_Acc: 87.68% Valid Mean_Acc:88.12% OCEAN_ACC:[0.89330804 0.87897456 0.8761101  0.8838372  0.873827  ]\n",
            "\n",
            "INFO:log.log:Valid: Epoch[042/050] Train Mean_Acc: 87.68% Valid Mean_Acc:88.12% OCEAN_ACC:[0.89330804 0.87897456 0.8761101  0.8838372  0.873827  ]\n",
            "\n",
            "Training: learning rate:0.001\n",
            "INFO:log.log:Training: learning rate:0.001\n",
            "Valid: Epoch[043/050] Train Mean_Acc: 87.82% Valid Mean_Acc:88.21% OCEAN_ACC:[0.89329606 0.87801105 0.879562   0.8870872  0.872785  ]\n",
            "\n",
            "INFO:log.log:Valid: Epoch[043/050] Train Mean_Acc: 87.82% Valid Mean_Acc:88.21% OCEAN_ACC:[0.89329606 0.87801105 0.879562   0.8870872  0.872785  ]\n",
            "\n",
            "Training: learning rate:0.001\n",
            "INFO:log.log:Training: learning rate:0.001\n",
            "Valid: Epoch[044/050] Train Mean_Acc: 87.85% Valid Mean_Acc:87.72% OCEAN_ACC:[0.8777871  0.8838482  0.87393206 0.87650126 0.87396085]\n",
            "\n",
            "INFO:log.log:Valid: Epoch[044/050] Train Mean_Acc: 87.85% Valid Mean_Acc:87.72% OCEAN_ACC:[0.8777871  0.8838482  0.87393206 0.87650126 0.87396085]\n",
            "\n",
            "Training: learning rate:0.001\n",
            "INFO:log.log:Training: learning rate:0.001\n",
            "Valid: Epoch[045/050] Train Mean_Acc: 87.75% Valid Mean_Acc:88.20% OCEAN_ACC:[0.8901536  0.8769223  0.8807987  0.8874981  0.87487495]\n",
            "\n",
            "INFO:log.log:Valid: Epoch[045/050] Train Mean_Acc: 87.75% Valid Mean_Acc:88.20% OCEAN_ACC:[0.8901536  0.8769223  0.8807987  0.8874981  0.87487495]\n",
            "\n",
            "Training: learning rate:0.001\n",
            "INFO:log.log:Training: learning rate:0.001\n",
            "Valid: Epoch[046/050] Train Mean_Acc: 88.00% Valid Mean_Acc:87.95% OCEAN_ACC:[0.8902365 0.8788201 0.8748127 0.8808212 0.872639 ]\n",
            "\n",
            "INFO:log.log:Valid: Epoch[046/050] Train Mean_Acc: 88.00% Valid Mean_Acc:87.95% OCEAN_ACC:[0.8902365 0.8788201 0.8748127 0.8808212 0.872639 ]\n",
            "\n",
            "Training: learning rate:0.001\n",
            "INFO:log.log:Training: learning rate:0.001\n",
            "Valid: Epoch[047/050] Train Mean_Acc: 87.76% Valid Mean_Acc:88.02% OCEAN_ACC:[0.8891014  0.87562025 0.8785831  0.88439786 0.8730799 ]\n",
            "\n",
            "INFO:log.log:Valid: Epoch[047/050] Train Mean_Acc: 87.76% Valid Mean_Acc:88.02% OCEAN_ACC:[0.8891014  0.87562025 0.8785831  0.88439786 0.8730799 ]\n",
            "\n",
            "Training: learning rate:0.001\n",
            "INFO:log.log:Training: learning rate:0.001\n",
            "Valid: Epoch[048/050] Train Mean_Acc: 88.55% Valid Mean_Acc:87.91% OCEAN_ACC:[0.89134055 0.87472373 0.87583447 0.88125306 0.87223136]\n",
            "\n",
            "INFO:log.log:Valid: Epoch[048/050] Train Mean_Acc: 88.55% Valid Mean_Acc:87.91% OCEAN_ACC:[0.89134055 0.87472373 0.87583447 0.88125306 0.87223136]\n",
            "\n",
            "Training: learning rate:0.001\n",
            "INFO:log.log:Training: learning rate:0.001\n",
            "Valid: Epoch[049/050] Train Mean_Acc: 87.66% Valid Mean_Acc:87.44% OCEAN_ACC:[0.87546235 0.8830427  0.86646116 0.87232    0.87461376]\n",
            "\n",
            "INFO:log.log:Valid: Epoch[049/050] Train Mean_Acc: 87.66% Valid Mean_Acc:87.44% OCEAN_ACC:[0.87546235 0.8830427  0.86646116 0.87232    0.87461376]\n",
            "\n",
            "Training: learning rate:0.001\n",
            "INFO:log.log:Training: learning rate:0.001\n",
            "Valid: Epoch[050/050] Train Mean_Acc: 87.70% Valid Mean_Acc:88.14% OCEAN_ACC:[0.89374447 0.8771291  0.8793405  0.88246    0.87437737]\n",
            "\n",
            "INFO:log.log:Valid: Epoch[050/050] Train Mean_Acc: 87.70% Valid Mean_Acc:88.14% OCEAN_ACC:[0.89374447 0.8771291  0.8793405  0.88246    0.87437737]\n",
            "\n",
            "11-09_15-50 done, best acc: 0.8922397494316101 in :2\n",
            "INFO:log.log:11-09_15-50 done, best acc: 0.8922397494316101 in :2\n",
            "Test only mode\n",
            "INFO:log.log:Test only mode\n",
            "test with model results/demo/unified_frame_images/03_bimodal_resnet/11-09_15-50/checkpoint_2.pkl\n",
            "INFO:log.log:test with model results/demo/unified_frame_images/03_bimodal_resnet/11-09_15-50/checkpoint_2.pkl\n",
            "100% 5/5 [00:00<00:00, 44.41it/s]\n",
            "mse: {'O': 0.0138, 'C': 0.0177, 'E': 0.0164, 'A': 0.0189, 'N': 0.0228} mean: 0.017899999395012856\n",
            "INFO:log.log:mse: {'O': 0.0138, 'C': 0.0177, 'E': 0.0164, 'A': 0.0189, 'N': 0.0228} mean: 0.017899999395012856\n",
            "acc: {'O': 0.902, 'C': 0.8832, 'E': 0.8957, 'A': 0.8867, 'N': 0.8851} mean: 0.8906\n",
            "INFO:log.log:acc: {'O': 0.902, 'C': 0.8832, 'E': 0.8957, 'A': 0.8867, 'N': 0.8851} mean: 0.8906\n",
            "pcc: {'O': -0.3977, 'C': -0.1506, 'E': 0.0456, 'A': -0.4443, 'N': 0.4877} mean: -0.0919\n",
            "INFO:log.log:pcc: {'O': -0.3977, 'C': -0.1506, 'E': 0.0456, 'A': -0.4443, 'N': 0.4877} mean: -0.0919\n",
            "ccc: {'O': -0.0263, 'C': -0.0199, 'E': 0.0026, 'A': -0.0998, 'N': 0.038} mean: -0.0211\n",
            "INFO:log.log:ccc: {'O': -0.0263, 'C': -0.0199, 'E': 0.0026, 'A': -0.0998, 'N': 0.038} mean: -0.0211\n"
          ]
        }
      ],
      "source": [
        "!python script/run_exp.py -c /content/DeepPersonality/config/demo/bimodal_resnet18.yaml"
      ]
    }
  ],
  "metadata": {
    "accelerator": "GPU",
    "colab": {
      "provenance": []
    },
    "gpuClass": "standard",
    "kernelspec": {
      "display_name": "Python 3",
      "name": "python3"
    },
    "language_info": {
      "codemirror_mode": {
        "name": "ipython",
        "version": 3
      },
      "file_extension": ".py",
      "mimetype": "text/x-python",
      "name": "python",
      "nbconvert_exporter": "python",
      "pygments_lexer": "ipython3",
      "version": "3.8.18"
    }
  },
  "nbformat": 4,
  "nbformat_minor": 0
}
