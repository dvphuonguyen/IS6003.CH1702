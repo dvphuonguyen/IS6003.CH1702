{
  "cells": [
    {
      "cell_type": "markdown",
      "metadata": {
        "id": "hNTAbqrWNfqf"
      },
      "source": [
        "# Installation"
      ]
    },
    {
      "cell_type": "code",
      "execution_count": null,
      "metadata": {
        "colab": {
          "base_uri": "https://localhost:8080/"
        },
        "id": "ktRVAf8PGphS",
        "outputId": "5a439335-1fc2-4414-e20d-c3dea129a241"
      },
      "outputs": [
        {
          "name": "stdout",
          "output_type": "stream",
          "text": [
            "Cloning into 'DeepPersonality'...\n",
            "remote: Enumerating objects: 3247, done.\u001b[K\n",
            "remote: Counting objects: 100% (64/64), done.\u001b[K\n",
            "remote: Compressing objects: 100% (43/43), done.\u001b[K\n",
            "remote: Total 3247 (delta 29), reused 37 (delta 19), pack-reused 3183\u001b[K\n",
            "Receiving objects: 100% (3247/3247), 3.05 MiB | 20.84 MiB/s, done.\n",
            "Resolving deltas: 100% (2279/2279), done.\n"
          ]
        }
      ],
      "source": [
        "!git clone https://github.com/liaorongfan/DeepPersonality.git"
      ]
    },
    {
      "cell_type": "code",
      "execution_count": null,
      "metadata": {
        "colab": {
          "base_uri": "https://localhost:8080/"
        },
        "id": "EyPYbb5TLJ7D",
        "outputId": "7f92f3ac-a5a4-4996-a34c-d168430ef9c3"
      },
      "outputs": [
        {
          "name": "stdout",
          "output_type": "stream",
          "text": [
            "/content/DeepPersonality\n"
          ]
        }
      ],
      "source": [
        "import os\n",
        "os.chdir(\"/content/DeepPersonality\")\n",
        "os.getcwd()"
      ]
    },
    {
      "cell_type": "code",
      "execution_count": null,
      "metadata": {
        "id": "O9gak0kSodDY"
      },
      "outputs": [],
      "source": [
        "!pip install -r requirements.txt"
      ]
    },
    {
      "cell_type": "markdown",
      "metadata": {
        "id": "_Ik_hgjlNt2P"
      },
      "source": [
        "# Quick Start"
      ]
    },
    {
      "cell_type": "markdown",
      "metadata": {
        "id": "4rNW1Xj87dg5"
      },
      "source": [
        "## Download processed demo dataset\n",
        "If you just want to have a try on running demo experiment, you can download the pre-processed tiny Chalearn 2016 dataset and unzip it in the `datasets` directory"
      ]
    },
    {
      "cell_type": "code",
      "execution_count": null,
      "metadata": {
        "colab": {
          "base_uri": "https://localhost:8080/"
        },
        "id": "WNOrRtUUJ6xY",
        "outputId": "fb9d415a-ee00-4147-affa-a4f30fdeca8c"
      },
      "outputs": [
        {
          "name": "stdout",
          "output_type": "stream",
          "text": [
            "/usr/local/lib/python3.7/dist-packages/gdown/cli.py:131: FutureWarning: Option `--id` was deprecated in version 4.3.1 and will be removed in 5.0. You don't need to pass it anymore to use a file ID.\n",
            "  category=FutureWarning,\n",
            "Downloading...\n",
            "From: https://drive.google.com/uc?id=1eANtFzA75Mqv01nW45exfauAIMLNO70J\n",
            "To: /content/DeepPersonality/ChaLearn2016_tiny_processed.zip\n",
            "100% 1.59G/1.59G [00:27<00:00, 58.2MB/s]\n"
          ]
        }
      ],
      "source": [
        "!gdown --id 1eANtFzA75Mqv01nW45exfauAIMLNO70J --output ChaLearn2016_tiny_processed.zip"
      ]
    },
    {
      "cell_type": "code",
      "execution_count": null,
      "metadata": {
        "id": "gvemaN1jKTAZ"
      },
      "outputs": [],
      "source": [
        "!unzip ChaLearn2016_tiny_processed.zip -d datasets"
      ]
    },
    {
      "cell_type": "markdown",
      "metadata": {
        "id": "5iQmOL4k7O8Y"
      },
      "source": [
        "## Run demo expriment"
      ]
    },
    {
      "cell_type": "code",
      "execution_count": 1,
      "metadata": {},
      "outputs": [
        {
          "name": "stderr",
          "output_type": "stream",
          "text": [
            "{\n",
            "    \"DATA\":{\n",
            "        \"ROOT\":\"datasets\",\n",
            "        \"SESSION\":\"talk\",\n",
            "        \"TEST_AUD_DATA\":\"ChaLearn2016_tiny/voice_data/voice_librosa/test_data\",\n",
            "        \"TEST_IMG_DATA\":\"ChaLearn2016_tiny/test_data\",\n",
            "        \"TEST_IMG_FACE_DATA\":\"image_data/test_data_face\",\n",
            "        \"TEST_LABEL_DATA\":\"ChaLearn2016_tiny/annotation/annotation_test.pkl\",\n",
            "        \"TRAIN_AUD_DATA\":\"ChaLearn2016_tiny/voice_data/voice_librosa/train_data\",\n",
            "        \"TRAIN_IMG_DATA\":\"ChaLearn2016_tiny/train_data\",\n",
            "        \"TRAIN_IMG_FACE_DATA\":\"image_data/train_data_face\",\n",
            "        \"TRAIN_LABEL_DATA\":\"ChaLearn2016_tiny/annotation/annotation_training.pkl\",\n",
            "        \"TYPE\":\"frame\",\n",
            "        \"VALID_AUD_DATA\":\"ChaLearn2016_tiny/voice_data/voice_librosa/valid_data\",\n",
            "        \"VALID_IMG_DATA\":\"ChaLearn2016_tiny/valid_data\",\n",
            "        \"VALID_IMG_FACE_DATA\":\"image_data/valid_data_face\",\n",
            "        \"VALID_LABEL_DATA\":\"ChaLearn2016_tiny/annotation/annotation_validation.pkl\",\n",
            "        \"VA_DATA\":\"va_data/cropped_aligned\",\n",
            "        \"VA_ROOT\":\"datasets\",\n",
            "        \"VA_TRAIN_LABEL\":\"va_data/va_label/VA_Set/Train_Set\",\n",
            "        \"VA_VALID_LABEL\":\"va_data/va_label/VA_Set/Validation_Set\"\n",
            "    },\n",
            "    \"DATA_LOADER\":{\n",
            "        \"DATASET\":\"\",\n",
            "        \"DROP_LAST\":true,\n",
            "        \"NAME\":\"bimodal_resnet_data_loader\",\n",
            "        \"NUM_WORKERS\":0,\n",
            "        \"SECOND_STAGE\":{\n",
            "            \"METHOD\":\"\",\n",
            "            \"TYPE\":\"\"\n",
            "        },\n",
            "        \"SHUFFLE\":true,\n",
            "        \"TRAIN_BATCH_SIZE\":8,\n",
            "        \"TRANSFORM\":\"standard_frame_transform\",\n",
            "        \"VALID_BATCH_SIZE\":4\n",
            "    },\n",
            "    \"LOSS\":{\n",
            "        \"NAME\":\"mean_square_error\"\n",
            "    },\n",
            "    \"MODEL\":{\n",
            "        \"NAME\":\"audiovisual_resnet\",\n",
            "        \"NUM_CLASS\":5,\n",
            "        \"PRETRAIN\":false,\n",
            "        \"RETURN_FEATURE\":false,\n",
            "        \"SPECTRUM_CHANNEL\":50\n",
            "    },\n",
            "    \"SOLVER\":{\n",
            "        \"BETA_1\":0.5,\n",
            "        \"BETA_2\":0.999,\n",
            "        \"FACTOR\":0.1,\n",
            "        \"LR_INIT\":0.001,\n",
            "        \"MILESTONE\":[\n",
            "            100,\n",
            "            200\n",
            "        ],\n",
            "        \"MOMENTUM\":0.9,\n",
            "        \"NAME\":\"sgd\",\n",
            "        \"RESET_LR\":false,\n",
            "        \"SCHEDULER\":\"multi_step_scale\",\n",
            "        \"WEIGHT_DECAY\":0.0005\n",
            "    },\n",
            "    \"TEST\":{\n",
            "        \"COMPUTE_CCC\":true,\n",
            "        \"COMPUTE_PCC\":true,\n",
            "        \"FULL_TEST\":false,\n",
            "        \"SAVE_DATASET_OUTPUT\":\"\",\n",
            "        \"TEST_ONLY\":false,\n",
            "        \"WEIGHT\":\"\"\n",
            "    },\n",
            "    \"TRAIN\":{\n",
            "        \"LOG_INTERVAL\":10,\n",
            "        \"MAX_EPOCH\":30,\n",
            "        \"OUTPUT_DIR\":\"results/demo/unified_frame_images/03_bimodal_resnet\",\n",
            "        \"PRE_TRAINED_MODEL\":null,\n",
            "        \"RESUME\":\"\",\n",
            "        \"START_EPOCH\":0,\n",
            "        \"TRAINER\":\"BiModalTrainer\",\n",
            "        \"VALID_INTERVAL\":1\n",
            "    }\n",
            "}\n",
            "Training: learning rate:0.001\n",
            "Valid: Epoch[001/030] Train Mean_Acc: 85.89% Valid Mean_Acc:89.06% OCEAN_ACC:[0.88259286 0.884433   0.8895899  0.90650207 0.8899633 ]\n",
            "\n",
            "Training: learning rate:0.001\n",
            "Valid: Epoch[002/030] Train Mean_Acc: 86.52% Valid Mean_Acc:88.82% OCEAN_ACC:[0.88788927 0.8810614  0.8841097  0.9028767  0.8851186 ]\n",
            "\n",
            "Training: learning rate:0.001\n",
            "Valid: Epoch[003/030] Train Mean_Acc: 87.32% Valid Mean_Acc:89.15% OCEAN_ACC:[0.8941555  0.8881011  0.88613176 0.90493184 0.88421947]\n",
            "\n",
            "Training: learning rate:0.001\n",
            "Valid: Epoch[004/030] Train Mean_Acc: 87.45% Valid Mean_Acc:89.13% OCEAN_ACC:[0.89515173 0.8879056  0.88633955 0.9039246  0.8832029 ]\n",
            "\n",
            "Training: learning rate:0.001\n",
            "Valid: Epoch[005/030] Train Mean_Acc: 87.70% Valid Mean_Acc:88.96% OCEAN_ACC:[0.89405936 0.88672054 0.88169354 0.90339595 0.8823433 ]\n",
            "\n",
            "Training: learning rate:0.001\n",
            "Valid: Epoch[006/030] Train Mean_Acc: 88.17% Valid Mean_Acc:88.94% OCEAN_ACC:[0.8931265  0.88597775 0.8818299  0.90400743 0.8820521 ]\n",
            "\n",
            "Training: learning rate:0.001\n",
            "Valid: Epoch[007/030] Train Mean_Acc: 87.66% Valid Mean_Acc:88.97% OCEAN_ACC:[0.8937044 0.8857352 0.8803728 0.9045396 0.8840473]\n",
            "\n",
            "Training: learning rate:0.001\n",
            "Valid: Epoch[008/030] Train Mean_Acc: 87.48% Valid Mean_Acc:89.06% OCEAN_ACC:[0.8923825  0.88631123 0.88582695 0.90407485 0.88445365]\n",
            "\n",
            "Training: learning rate:0.001\n",
            "Valid: Epoch[009/030] Train Mean_Acc: 87.10% Valid Mean_Acc:88.87% OCEAN_ACC:[0.89186513 0.88483477 0.8830743  0.90096366 0.8826234 ]\n",
            "\n",
            "Training: learning rate:0.001\n",
            "Valid: Epoch[010/030] Train Mean_Acc: 87.37% Valid Mean_Acc:87.72% OCEAN_ACC:[0.8773674  0.87085897 0.8683592  0.8862295  0.8833    ]\n",
            "\n",
            "Training: learning rate:0.001\n",
            "Valid: Epoch[011/030] Train Mean_Acc: 87.45% Valid Mean_Acc:88.76% OCEAN_ACC:[0.890391   0.88867867 0.88379747 0.89520633 0.8801405 ]\n",
            "\n",
            "Training: learning rate:0.001\n",
            "Valid: Epoch[012/030] Train Mean_Acc: 87.19% Valid Mean_Acc:88.64% OCEAN_ACC:[0.88936937 0.8865612  0.8849317  0.8910626  0.88032246]\n",
            "\n",
            "Training: learning rate:0.001\n",
            "Valid: Epoch[013/030] Train Mean_Acc: 87.26% Valid Mean_Acc:88.69% OCEAN_ACC:[0.8887693  0.8870859  0.8855627  0.8927328  0.88030416]\n",
            "\n",
            "Training: learning rate:0.001\n",
            "Valid: Epoch[014/030] Train Mean_Acc: 87.33% Valid Mean_Acc:88.34% OCEAN_ACC:[0.88763636 0.8848985  0.87937117 0.88846284 0.8767735 ]\n",
            "\n",
            "Training: learning rate:0.001\n",
            "Valid: Epoch[015/030] Train Mean_Acc: 87.45% Valid Mean_Acc:88.45% OCEAN_ACC:[0.8875693  0.8844169  0.88548833 0.8882154  0.87665445]\n",
            "\n",
            "Training: learning rate:0.001\n",
            "Valid: Epoch[016/030] Train Mean_Acc: 87.52% Valid Mean_Acc:88.34% OCEAN_ACC:[0.88431865 0.88371485 0.8857075  0.8868764  0.87613994]\n",
            "\n",
            "Training: learning rate:0.001\n",
            "Valid: Epoch[017/030] Train Mean_Acc: 87.80% Valid Mean_Acc:88.38% OCEAN_ACC:[0.8871282  0.88414925 0.88250434 0.88868874 0.87666017]\n",
            "\n",
            "Training: learning rate:0.001\n",
            "Valid: Epoch[018/030] Train Mean_Acc: 87.75% Valid Mean_Acc:88.37% OCEAN_ACC:[0.8831612  0.8831061  0.8855788  0.88975346 0.8768571 ]\n",
            "\n",
            "Training: learning rate:0.001\n",
            "Valid: Epoch[019/030] Train Mean_Acc: 87.46% Valid Mean_Acc:88.43% OCEAN_ACC:[0.88693255 0.88720644 0.8842102  0.88854396 0.87441885]\n",
            "\n",
            "Training: learning rate:0.001\n",
            "Valid: Epoch[020/030] Train Mean_Acc: 87.75% Valid Mean_Acc:88.27% OCEAN_ACC:[0.88685715 0.8858274  0.8840402  0.8841772  0.87269914]\n",
            "\n",
            "Training: learning rate:0.001\n",
            "Valid: Epoch[021/030] Train Mean_Acc: 88.15% Valid Mean_Acc:88.22% OCEAN_ACC:[0.8877083  0.8810736  0.88316476 0.8853695  0.8738268 ]\n",
            "\n",
            "Training: learning rate:0.001\n",
            "Valid: Epoch[022/030] Train Mean_Acc: 87.55% Valid Mean_Acc:88.23% OCEAN_ACC:[0.8847927  0.8828049  0.88247555 0.8852941  0.87596685]\n",
            "\n",
            "Training: learning rate:0.001\n",
            "Valid: Epoch[023/030] Train Mean_Acc: 88.46% Valid Mean_Acc:88.25% OCEAN_ACC:[0.8880204  0.8815783  0.88191307 0.88563573 0.87527925]\n",
            "\n",
            "Training: learning rate:0.001\n",
            "Valid: Epoch[024/030] Train Mean_Acc: 87.73% Valid Mean_Acc:88.20% OCEAN_ACC:[0.88466895 0.88360584 0.8832897  0.8849203  0.87368834]\n",
            "\n",
            "Training: learning rate:0.001\n",
            "Valid: Epoch[025/030] Train Mean_Acc: 88.31% Valid Mean_Acc:88.22% OCEAN_ACC:[0.8870696  0.8790329  0.8823161  0.88604915 0.87631047]\n",
            "\n",
            "Training: learning rate:0.001\n",
            "Valid: Epoch[026/030] Train Mean_Acc: 87.48% Valid Mean_Acc:86.85% OCEAN_ACC:[0.8720072  0.8640995  0.8630277  0.87201804 0.8713311 ]\n",
            "\n",
            "Training: learning rate:0.001\n",
            "Valid: Epoch[027/030] Train Mean_Acc: 87.74% Valid Mean_Acc:88.01% OCEAN_ACC:[0.88642627 0.87567675 0.8792181  0.88401204 0.87504923]\n",
            "\n",
            "Training: learning rate:0.001\n",
            "Valid: Epoch[028/030] Train Mean_Acc: 88.05% Valid Mean_Acc:88.25% OCEAN_ACC:[0.88576823 0.87993324 0.88269645 0.8849543  0.87908804]\n",
            "\n",
            "Training: learning rate:0.001\n",
            "Valid: Epoch[029/030] Train Mean_Acc: 87.76% Valid Mean_Acc:88.04% OCEAN_ACC:[0.88940954 0.87811995 0.8782112  0.881168   0.8750534 ]\n",
            "\n",
            "Training: learning rate:0.001\n",
            "Valid: Epoch[030/030] Train Mean_Acc: 87.46% Valid Mean_Acc:88.14% OCEAN_ACC:[0.88875026 0.8811019  0.88076514 0.8838521  0.8724039 ]\n",
            "\n",
            "10-07_15-43 done, best acc: 0.8915079236030579 in :2\n",
            "Test only mode\n",
            "test with model results/demo/unified_frame_images/03_bimodal_resnet\\10-07_15-43\\checkpoint_2.pkl\n",
            "\n",
            "  0%|          | 0/5 [00:00<?, ?it/s]\n",
            " 60%|██████    | 3/5 [00:00<00:00, 23.89it/s]\n",
            "100%|██████████| 5/5 [00:00<00:00, 22.62it/s]\n",
            "mse: {'O': 0.0145, 'C': 0.0171, 'E': 0.0165, 'A': 0.0174, 'N': 0.0253} mean: 0.01810000091791153\n",
            "acc: {'O': 0.8996, 'C': 0.8911, 'E': 0.8963, 'A': 0.8903, 'N': 0.885} mean: 0.8925\n",
            "pcc: {'O': -0.1481, 'C': -0.189, 'E': -0.3899, 'A': -0.2527, 'N': 0.1179} mean: -0.1724\n",
            "ccc: {'O': -0.013, 'C': -0.0274, 'E': -0.0571, 'A': -0.0187, 'N': 0.0072} mean: -0.0218\n"
          ]
        }
      ],
      "source": [
        "!python script/run_exp.py -c config/demo/bimodal_resnet18.yaml"
      ]
    },
    {
      "cell_type": "code",
      "execution_count": null,
      "metadata": {},
      "outputs": [],
      "source": [
        "!python script/run_exp.py -c config/demo/bimodal_resnet18.yaml"
      ]
    },
    {
      "cell_type": "code",
      "execution_count": 1,
      "metadata": {
        "colab": {
          "base_uri": "https://localhost:8080/"
        },
        "id": "HjrX3dLsoISm",
        "outputId": "dd19b60c-e588-4cc5-fbe4-f7ba46c09e76"
      },
      "outputs": [],
      "source": [
        "# !python script/run_exp.py -c /content/DeepPersonality/config/demo/bimodal_resnet18.yaml"
      ]
    }
  ],
  "metadata": {
    "accelerator": "GPU",
    "colab": {
      "provenance": []
    },
    "gpuClass": "standard",
    "kernelspec": {
      "display_name": "Python 3",
      "name": "python3"
    },
    "language_info": {
      "codemirror_mode": {
        "name": "ipython",
        "version": 3
      },
      "file_extension": ".py",
      "mimetype": "text/x-python",
      "name": "python",
      "nbconvert_exporter": "python",
      "pygments_lexer": "ipython3",
      "version": "3.8.18"
    }
  },
  "nbformat": 4,
  "nbformat_minor": 0
}
