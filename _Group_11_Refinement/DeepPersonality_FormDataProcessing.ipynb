{
  "cells": [
    {
      "cell_type": "markdown",
      "metadata": {},
      "source": [
        "## Visual data processing"
      ]
    },
    {
      "cell_type": "code",
      "execution_count": 1,
      "metadata": {},
      "outputs": [
        {
          "name": "stderr",
          "output_type": "stream",
          "text": [
            "python: can't open file './dpcv/data/utils/video_to_image.py': [Errno 2] No such file or directory\n"
          ]
        }
      ],
      "source": [
        "!python ./dpcv/data/utils/video_to_image.py --video-dir D:/ERP_Project/ChaLearn2016_tiny/test --output-dir D:/ERP_Project/ChaLearn2016_tiny/image_data/test_data"
      ]
    },
    {
      "cell_type": "code",
      "execution_count": 2,
      "metadata": {},
      "outputs": [
        {
          "name": "stderr",
          "output_type": "stream",
          "text": [
            "python: can't open file './dpcv/data/utils/video_to_image.py': [Errno 2] No such file or directory\n"
          ]
        }
      ],
      "source": [
        "!python ./dpcv/data/utils/video_to_image.py --video-dir D:/ERP_Project/ChaLearn2016_tiny/train --output-dir D:/ERP_Project/ChaLearn2016_tiny/image_data/train_data"
      ]
    },
    {
      "cell_type": "code",
      "execution_count": 3,
      "metadata": {},
      "outputs": [
        {
          "name": "stderr",
          "output_type": "stream",
          "text": [
            "python: can't open file './dpcv/data/utils/video_to_image.py': [Errno 2] No such file or directory\n"
          ]
        }
      ],
      "source": [
        "!python ./dpcv/data/utils/video_to_image.py --video-dir D:/ERP_Project/ChaLearn2016_tiny/valid --output-dir D:/ERP_Project/ChaLearn2016_tiny/image_data/valid_data"
      ]
    },
    {
      "cell_type": "markdown",
      "metadata": {
        "id": "v4XxtUDjNfGP"
      },
      "source": [
        "## Audio data processing"
      ]
    },
    {
      "cell_type": "markdown",
      "metadata": {
        "id": "v_10YuAWB-1H"
      },
      "source": [
        "### Extract raw audio from video"
      ]
    },
    {
      "cell_type": "code",
      "execution_count": null,
      "metadata": {},
      "outputs": [],
      "source": [
        "!python ./dpcv/data/utils/video_to_wave.py --video-dir D:/ERP_Project/ChaLearn2016_tiny/test --output-dir D:/ERP_Project/ChaLearn2016_tiny/voice_data/voice_raw/test_data"
      ]
    },
    {
      "cell_type": "code",
      "execution_count": null,
      "metadata": {
        "id": "dzr-cPbg-B8W"
      },
      "outputs": [],
      "source": [
        "!python ./dpcv/data/utils/video_to_wave.py --video-dir D:/ERP_Project/ChaLearn2016_tiny/train --output-dir D:/ERP_Project/ChaLearn2016_tiny/voice_data/voice_raw/train_data"
      ]
    },
    {
      "cell_type": "code",
      "execution_count": null,
      "metadata": {},
      "outputs": [],
      "source": [
        "!python ./dpcv/data/utils/video_to_wave.py --video-dir D:/ERP_Project/ChaLearn2016_tiny/valid --output-dir D:/ERP_Project/ChaLearn2016_tiny/voice_data/voice_raw/valid_data"
      ]
    },
    {
      "cell_type": "markdown",
      "metadata": {
        "id": "o42krPoI-T_B"
      },
      "source": [
        "### Process raw audio data"
      ]
    },
    {
      "cell_type": "code",
      "execution_count": null,
      "metadata": {},
      "outputs": [],
      "source": [
        "!python dpcv/data/utils/raw_audio_process.py --mode librosa --audio-dir D:/ERP_Project/ChaLearn2016_tiny/voice_data/voice_raw/test_data --output-dir D:/ERP_Project/ChaLearn2016_tiny/voice_data/voice_librosa/test_data"
      ]
    },
    {
      "cell_type": "code",
      "execution_count": null,
      "metadata": {},
      "outputs": [],
      "source": [
        "!python dpcv/data/utils/raw_audio_process.py --mode librosa --audio-dir D:/ERP_Project/ChaLearn2016_tiny/voice_data/voice_raw/train_data --output-dir D:/ERP_Project/ChaLearn2016_tiny/voice_data/voice_librosa/train_data"
      ]
    },
    {
      "cell_type": "code",
      "execution_count": 6,
      "metadata": {
        "colab": {
          "base_uri": "https://localhost:8080/"
        },
        "id": "m-59dSduNxNo",
        "outputId": "bf585a20-54f1-4a59-cd72-443d5b3318fb"
      },
      "outputs": [
        {
          "name": "stderr",
          "output_type": "stream",
          "text": [
            "\n",
            "  0%|          | 0/1 [00:00<?, ?it/s]\n",
            "100%|██████████| 1/1 [00:01<00:00,  1.45s/it]\n",
            "100%|██████████| 1/1 [00:01<00:00,  1.45s/it]\n"
          ]
        }
      ],
      "source": [
        "!python dpcv/data/utils/raw_audio_process.py --mode librosa --audio-dir D:/ERP_Project/ChaLearn2016_tiny/voice_data/voice_raw/valid_data --output-dir D:/ERP_Project/ChaLearn2016_tiny/voice_data/voice_librosa/valid_data"
      ]
    },
    {
      "cell_type": "markdown",
      "metadata": {
        "id": "Jx6OvHmUCOFD"
      },
      "source": [
        "# Run demo expriment"
      ]
    },
    {
      "cell_type": "code",
      "execution_count": 1,
      "metadata": {
        "colab": {
          "base_uri": "https://localhost:8080/"
        },
        "id": "kmTcOCDFA2w8",
        "outputId": "2bc4dff8-04ed-4c3d-8090-0fdb6e112ae3"
      },
      "outputs": [
        {
          "name": "stderr",
          "output_type": "stream",
          "text": [
            "python: can't open file 'script/run_exp.py': [Errno 2] No such file or directory\n"
          ]
        }
      ],
      "source": [
        "!python script/run_exp.py -c config/demo/bimodal_resnet18_change_folder.yaml"
      ]
    }
  ],
  "metadata": {
    "accelerator": "GPU",
    "colab": {
      "provenance": []
    },
    "gpuClass": "standard",
    "kernelspec": {
      "display_name": "Python 3",
      "name": "python3"
    },
    "language_info": {
      "codemirror_mode": {
        "name": "ipython",
        "version": 3
      },
      "file_extension": ".py",
      "mimetype": "text/x-python",
      "name": "python",
      "nbconvert_exporter": "python",
      "pygments_lexer": "ipython3",
      "version": "3.8.18"
    }
  },
  "nbformat": 4,
  "nbformat_minor": 0
}
